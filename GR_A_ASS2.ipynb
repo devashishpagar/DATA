import pandas as pd
import numpy as np
student=pd.read_csv(r"C:\Users\Student\Documents\AcademicPerformance.csv")
student.info()
student.head(10)
student.isnull().sum()
print(student.shape)
student.select_dtypes('object').apply(pd.Series.nunique, axis = 0)

categorical_F = student.select_dtypes(object)
categorical_F.describe()

student.isnull().sum()
x=student["Grade"].mode()
x
student['Grade'].value_counts()
student["Grade"] = student["Grade"].fillna(student["Grade"].mode())
student["WT"].mean()
student["WT"] = student["WT"].replace(np.nan,student["WT"].mean())
student["DSBDA"].median()
student["AI"].mode()
student["AI"] = student["AI"].replace(np.nan,student["AI"].mode())
student.head(5)
student["Average"] = student["Average"].fillna(student["Average"].mean())
student["PG"] = student["PG"].fillna(method='ffill')
data=pd.read_csv(r"C:\Users\Student\Documents\AcademicPerformance.csv")
data["AI"] = data["AI"].fillna(method='ffill') gap...
student["Grade"] = student["Grade"].fillna(method='ffill')
student.isnull().sum()
student
